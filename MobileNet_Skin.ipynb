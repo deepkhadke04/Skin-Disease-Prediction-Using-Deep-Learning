{
 "cells": [
  {
   "cell_type": "code",
   "execution_count": 1,
   "id": "3b29439b",
   "metadata": {},
   "outputs": [],
   "source": [
    "import pandas as pd\n",
    "df = pd.read_csv('hmnist_64_64_RGB.csv')"
   ]
  },
  {
   "cell_type": "code",
   "execution_count": 2,
   "id": "061791c8",
   "metadata": {},
   "outputs": [
    {
     "data": {
      "text/html": [
       "<div>\n",
       "<style scoped>\n",
       "    .dataframe tbody tr th:only-of-type {\n",
       "        vertical-align: middle;\n",
       "    }\n",
       "\n",
       "    .dataframe tbody tr th {\n",
       "        vertical-align: top;\n",
       "    }\n",
       "\n",
       "    .dataframe thead th {\n",
       "        text-align: right;\n",
       "    }\n",
       "</style>\n",
       "<table border=\"1\" class=\"dataframe\">\n",
       "  <thead>\n",
       "    <tr style=\"text-align: right;\">\n",
       "      <th></th>\n",
       "      <th>pixel0000</th>\n",
       "      <th>pixel0001</th>\n",
       "      <th>pixel0002</th>\n",
       "      <th>pixel0003</th>\n",
       "      <th>pixel0004</th>\n",
       "      <th>pixel0005</th>\n",
       "      <th>pixel0006</th>\n",
       "      <th>pixel0007</th>\n",
       "      <th>pixel0008</th>\n",
       "      <th>pixel0009</th>\n",
       "      <th>...</th>\n",
       "      <th>pixel12279</th>\n",
       "      <th>pixel12280</th>\n",
       "      <th>pixel12281</th>\n",
       "      <th>pixel12282</th>\n",
       "      <th>pixel12283</th>\n",
       "      <th>pixel12284</th>\n",
       "      <th>pixel12285</th>\n",
       "      <th>pixel12286</th>\n",
       "      <th>pixel12287</th>\n",
       "      <th>label</th>\n",
       "    </tr>\n",
       "  </thead>\n",
       "  <tbody>\n",
       "    <tr>\n",
       "      <th>0</th>\n",
       "      <td>191</td>\n",
       "      <td>152</td>\n",
       "      <td>194</td>\n",
       "      <td>191</td>\n",
       "      <td>153</td>\n",
       "      <td>195</td>\n",
       "      <td>192</td>\n",
       "      <td>149</td>\n",
       "      <td>192</td>\n",
       "      <td>194</td>\n",
       "      <td>...</td>\n",
       "      <td>185</td>\n",
       "      <td>154</td>\n",
       "      <td>180</td>\n",
       "      <td>186</td>\n",
       "      <td>156</td>\n",
       "      <td>184</td>\n",
       "      <td>182</td>\n",
       "      <td>152</td>\n",
       "      <td>173</td>\n",
       "      <td>2</td>\n",
       "    </tr>\n",
       "    <tr>\n",
       "      <th>1</th>\n",
       "      <td>24</td>\n",
       "      <td>13</td>\n",
       "      <td>23</td>\n",
       "      <td>24</td>\n",
       "      <td>14</td>\n",
       "      <td>28</td>\n",
       "      <td>37</td>\n",
       "      <td>24</td>\n",
       "      <td>46</td>\n",
       "      <td>61</td>\n",
       "      <td>...</td>\n",
       "      <td>26</td>\n",
       "      <td>15</td>\n",
       "      <td>29</td>\n",
       "      <td>27</td>\n",
       "      <td>15</td>\n",
       "      <td>28</td>\n",
       "      <td>24</td>\n",
       "      <td>13</td>\n",
       "      <td>25</td>\n",
       "      <td>2</td>\n",
       "    </tr>\n",
       "    <tr>\n",
       "      <th>2</th>\n",
       "      <td>185</td>\n",
       "      <td>129</td>\n",
       "      <td>140</td>\n",
       "      <td>192</td>\n",
       "      <td>136</td>\n",
       "      <td>151</td>\n",
       "      <td>198</td>\n",
       "      <td>142</td>\n",
       "      <td>156</td>\n",
       "      <td>198</td>\n",
       "      <td>...</td>\n",
       "      <td>152</td>\n",
       "      <td>120</td>\n",
       "      <td>138</td>\n",
       "      <td>144</td>\n",
       "      <td>113</td>\n",
       "      <td>123</td>\n",
       "      <td>115</td>\n",
       "      <td>81</td>\n",
       "      <td>84</td>\n",
       "      <td>2</td>\n",
       "    </tr>\n",
       "    <tr>\n",
       "      <th>3</th>\n",
       "      <td>24</td>\n",
       "      <td>11</td>\n",
       "      <td>19</td>\n",
       "      <td>36</td>\n",
       "      <td>19</td>\n",
       "      <td>30</td>\n",
       "      <td>64</td>\n",
       "      <td>38</td>\n",
       "      <td>50</td>\n",
       "      <td>91</td>\n",
       "      <td>...</td>\n",
       "      <td>27</td>\n",
       "      <td>13</td>\n",
       "      <td>16</td>\n",
       "      <td>25</td>\n",
       "      <td>12</td>\n",
       "      <td>16</td>\n",
       "      <td>24</td>\n",
       "      <td>9</td>\n",
       "      <td>14</td>\n",
       "      <td>2</td>\n",
       "    </tr>\n",
       "    <tr>\n",
       "      <th>4</th>\n",
       "      <td>138</td>\n",
       "      <td>94</td>\n",
       "      <td>117</td>\n",
       "      <td>158</td>\n",
       "      <td>113</td>\n",
       "      <td>138</td>\n",
       "      <td>178</td>\n",
       "      <td>133</td>\n",
       "      <td>161</td>\n",
       "      <td>191</td>\n",
       "      <td>...</td>\n",
       "      <td>140</td>\n",
       "      <td>106</td>\n",
       "      <td>118</td>\n",
       "      <td>108</td>\n",
       "      <td>77</td>\n",
       "      <td>92</td>\n",
       "      <td>67</td>\n",
       "      <td>40</td>\n",
       "      <td>55</td>\n",
       "      <td>2</td>\n",
       "    </tr>\n",
       "  </tbody>\n",
       "</table>\n",
       "<p>5 rows × 12289 columns</p>\n",
       "</div>"
      ],
      "text/plain": [
       "   pixel0000  pixel0001  pixel0002  pixel0003  pixel0004  pixel0005  \\\n",
       "0        191        152        194        191        153        195   \n",
       "1         24         13         23         24         14         28   \n",
       "2        185        129        140        192        136        151   \n",
       "3         24         11         19         36         19         30   \n",
       "4        138         94        117        158        113        138   \n",
       "\n",
       "   pixel0006  pixel0007  pixel0008  pixel0009  ...  pixel12279  pixel12280  \\\n",
       "0        192        149        192        194  ...         185         154   \n",
       "1         37         24         46         61  ...          26          15   \n",
       "2        198        142        156        198  ...         152         120   \n",
       "3         64         38         50         91  ...          27          13   \n",
       "4        178        133        161        191  ...         140         106   \n",
       "\n",
       "   pixel12281  pixel12282  pixel12283  pixel12284  pixel12285  pixel12286  \\\n",
       "0         180         186         156         184         182         152   \n",
       "1          29          27          15          28          24          13   \n",
       "2         138         144         113         123         115          81   \n",
       "3          16          25          12          16          24           9   \n",
       "4         118         108          77          92          67          40   \n",
       "\n",
       "   pixel12287  label  \n",
       "0         173      2  \n",
       "1          25      2  \n",
       "2          84      2  \n",
       "3          14      2  \n",
       "4          55      2  \n",
       "\n",
       "[5 rows x 12289 columns]"
      ]
     },
     "execution_count": 2,
     "metadata": {},
     "output_type": "execute_result"
    }
   ],
   "source": [
    "df.head()"
   ]
  },
  {
   "cell_type": "code",
   "execution_count": 3,
   "id": "9428f322",
   "metadata": {},
   "outputs": [
    {
     "data": {
      "text/plain": [
       "(10015, 12289)"
      ]
     },
     "execution_count": 3,
     "metadata": {},
     "output_type": "execute_result"
    }
   ],
   "source": [
    "df.shape"
   ]
  },
  {
   "cell_type": "code",
   "execution_count": 4,
   "id": "9a0e2717",
   "metadata": {},
   "outputs": [],
   "source": [
    "x = df.drop(\"label\", axis=1).values\n",
    "y = df[\"label\"].values"
   ]
  },
  {
   "cell_type": "code",
   "execution_count": 5,
   "id": "69d0c627",
   "metadata": {},
   "outputs": [
    {
     "data": {
      "text/plain": [
       "((10015, 12288), (10015,))"
      ]
     },
     "execution_count": 5,
     "metadata": {},
     "output_type": "execute_result"
    }
   ],
   "source": [
    "x.shape, y.shape"
   ]
  },
  {
   "cell_type": "code",
   "execution_count": 6,
   "id": "98d74335",
   "metadata": {},
   "outputs": [],
   "source": [
    "from sklearn.model_selection import train_test_split\n",
    "x_train,x_test,y_train,y_test=train_test_split(x,y,test_size=0.20,random_state=0)"
   ]
  },
  {
   "cell_type": "code",
   "execution_count": 7,
   "id": "57c1942c",
   "metadata": {},
   "outputs": [
    {
     "data": {
      "text/plain": [
       "((8012, 12288), (2003, 12288), (8012,), (2003,))"
      ]
     },
     "execution_count": 7,
     "metadata": {},
     "output_type": "execute_result"
    }
   ],
   "source": [
    "x_train.shape, x_test.shape, y_train.shape, y_test.shape"
   ]
  },
  {
   "cell_type": "code",
   "execution_count": 8,
   "id": "9ac223d3",
   "metadata": {},
   "outputs": [],
   "source": [
    "x_train = x_train.reshape(x_train.shape[0], *(64, 64, 3))\n",
    "x_test = x_test.reshape(x_test.shape[0], *(64, 64, 3))"
   ]
  },
  {
   "cell_type": "code",
   "execution_count": 9,
   "id": "90111d35",
   "metadata": {},
   "outputs": [
    {
     "data": {
      "text/plain": [
       "((8012, 64, 64, 3), (2003, 64, 64, 3))"
      ]
     },
     "execution_count": 9,
     "metadata": {},
     "output_type": "execute_result"
    }
   ],
   "source": [
    "x_train.shape, x_test.shape"
   ]
  },
  {
   "cell_type": "code",
   "execution_count": 10,
   "id": "4222073d",
   "metadata": {},
   "outputs": [],
   "source": [
    "from keras.utils import to_categorical\n",
    "\n",
    "y_train = to_categorical(y_train)\n",
    "y_test = to_categorical(y_test)"
   ]
  },
  {
   "cell_type": "code",
   "execution_count": 11,
   "id": "51d97edf",
   "metadata": {},
   "outputs": [
    {
     "data": {
      "text/plain": [
       "((8012, 7), (2003, 7))"
      ]
     },
     "execution_count": 11,
     "metadata": {},
     "output_type": "execute_result"
    }
   ],
   "source": [
    "y_train.shape, y_test.shape"
   ]
  },
  {
   "cell_type": "code",
   "execution_count": 12,
   "id": "b8628961",
   "metadata": {},
   "outputs": [],
   "source": [
    "from keras.applications.mobilenet import MobileNet"
   ]
  },
  {
   "cell_type": "code",
   "execution_count": 13,
   "id": "7b49dce1",
   "metadata": {},
   "outputs": [
    {
     "name": "stdout",
     "output_type": "stream",
     "text": [
      "WARNING:tensorflow:`input_shape` is undefined or non-square, or `rows` is not in [128, 160, 192, 224]. Weights for input shape (224, 224) will be loaded as the default.\n"
     ]
    }
   ],
   "source": [
    "base_model = MobileNet(weights=\"imagenet\", include_top=False , input_shape=(64, 64, 3))"
   ]
  },
  {
   "cell_type": "code",
   "execution_count": 14,
   "id": "35ad2ea1",
   "metadata": {},
   "outputs": [],
   "source": [
    "from keras.models import Sequential , Model\n",
    "from keras.layers import Dropout , GlobalAveragePooling2D\n",
    "from keras.layers import Dense, Dropout, Flatten, Conv2D, MaxPool2D, BatchNormalization\n",
    "\n",
    "x = base_model.output\n",
    "x = Dropout(0.5)(x)\n",
    "x = GlobalAveragePooling2D()(x)\n",
    "x = Dense(128, activation='relu')(x)\n",
    "x = BatchNormalization()(x)\n",
    "predictions = Dense(7, activation='sigmoid')(x)\n",
    "model = Model(inputs=base_model.input, outputs=predictions)"
   ]
  },
  {
   "cell_type": "code",
   "execution_count": 15,
   "id": "6af46c7b",
   "metadata": {
    "scrolled": false
   },
   "outputs": [
    {
     "name": "stdout",
     "output_type": "stream",
     "text": [
      "Model: \"model\"\n",
      "_________________________________________________________________\n",
      " Layer (type)                Output Shape              Param #   \n",
      "=================================================================\n",
      " input_1 (InputLayer)        [(None, 64, 64, 3)]       0         \n",
      "                                                                 \n",
      " conv1 (Conv2D)              (None, 32, 32, 32)        864       \n",
      "                                                                 \n",
      " conv1_bn (BatchNormalizatio  (None, 32, 32, 32)       128       \n",
      " n)                                                              \n",
      "                                                                 \n",
      " conv1_relu (ReLU)           (None, 32, 32, 32)        0         \n",
      "                                                                 \n",
      " conv_dw_1 (DepthwiseConv2D)  (None, 32, 32, 32)       288       \n",
      "                                                                 \n",
      " conv_dw_1_bn (BatchNormaliz  (None, 32, 32, 32)       128       \n",
      " ation)                                                          \n",
      "                                                                 \n",
      " conv_dw_1_relu (ReLU)       (None, 32, 32, 32)        0         \n",
      "                                                                 \n",
      " conv_pw_1 (Conv2D)          (None, 32, 32, 64)        2048      \n",
      "                                                                 \n",
      " conv_pw_1_bn (BatchNormaliz  (None, 32, 32, 64)       256       \n",
      " ation)                                                          \n",
      "                                                                 \n",
      " conv_pw_1_relu (ReLU)       (None, 32, 32, 64)        0         \n",
      "                                                                 \n",
      " conv_pad_2 (ZeroPadding2D)  (None, 33, 33, 64)        0         \n",
      "                                                                 \n",
      " conv_dw_2 (DepthwiseConv2D)  (None, 16, 16, 64)       576       \n",
      "                                                                 \n",
      " conv_dw_2_bn (BatchNormaliz  (None, 16, 16, 64)       256       \n",
      " ation)                                                          \n",
      "                                                                 \n",
      " conv_dw_2_relu (ReLU)       (None, 16, 16, 64)        0         \n",
      "                                                                 \n",
      " conv_pw_2 (Conv2D)          (None, 16, 16, 128)       8192      \n",
      "                                                                 \n",
      " conv_pw_2_bn (BatchNormaliz  (None, 16, 16, 128)      512       \n",
      " ation)                                                          \n",
      "                                                                 \n",
      " conv_pw_2_relu (ReLU)       (None, 16, 16, 128)       0         \n",
      "                                                                 \n",
      " conv_dw_3 (DepthwiseConv2D)  (None, 16, 16, 128)      1152      \n",
      "                                                                 \n",
      " conv_dw_3_bn (BatchNormaliz  (None, 16, 16, 128)      512       \n",
      " ation)                                                          \n",
      "                                                                 \n",
      " conv_dw_3_relu (ReLU)       (None, 16, 16, 128)       0         \n",
      "                                                                 \n",
      " conv_pw_3 (Conv2D)          (None, 16, 16, 128)       16384     \n",
      "                                                                 \n",
      " conv_pw_3_bn (BatchNormaliz  (None, 16, 16, 128)      512       \n",
      " ation)                                                          \n",
      "                                                                 \n",
      " conv_pw_3_relu (ReLU)       (None, 16, 16, 128)       0         \n",
      "                                                                 \n",
      " conv_pad_4 (ZeroPadding2D)  (None, 17, 17, 128)       0         \n",
      "                                                                 \n",
      " conv_dw_4 (DepthwiseConv2D)  (None, 8, 8, 128)        1152      \n",
      "                                                                 \n",
      " conv_dw_4_bn (BatchNormaliz  (None, 8, 8, 128)        512       \n",
      " ation)                                                          \n",
      "                                                                 \n",
      " conv_dw_4_relu (ReLU)       (None, 8, 8, 128)         0         \n",
      "                                                                 \n",
      " conv_pw_4 (Conv2D)          (None, 8, 8, 256)         32768     \n",
      "                                                                 \n",
      " conv_pw_4_bn (BatchNormaliz  (None, 8, 8, 256)        1024      \n",
      " ation)                                                          \n",
      "                                                                 \n",
      " conv_pw_4_relu (ReLU)       (None, 8, 8, 256)         0         \n",
      "                                                                 \n",
      " conv_dw_5 (DepthwiseConv2D)  (None, 8, 8, 256)        2304      \n",
      "                                                                 \n",
      " conv_dw_5_bn (BatchNormaliz  (None, 8, 8, 256)        1024      \n",
      " ation)                                                          \n",
      "                                                                 \n",
      " conv_dw_5_relu (ReLU)       (None, 8, 8, 256)         0         \n",
      "                                                                 \n",
      " conv_pw_5 (Conv2D)          (None, 8, 8, 256)         65536     \n",
      "                                                                 \n",
      " conv_pw_5_bn (BatchNormaliz  (None, 8, 8, 256)        1024      \n",
      " ation)                                                          \n",
      "                                                                 \n",
      " conv_pw_5_relu (ReLU)       (None, 8, 8, 256)         0         \n",
      "                                                                 \n",
      " conv_pad_6 (ZeroPadding2D)  (None, 9, 9, 256)         0         \n",
      "                                                                 \n",
      " conv_dw_6 (DepthwiseConv2D)  (None, 4, 4, 256)        2304      \n",
      "                                                                 \n",
      " conv_dw_6_bn (BatchNormaliz  (None, 4, 4, 256)        1024      \n",
      " ation)                                                          \n",
      "                                                                 \n",
      " conv_dw_6_relu (ReLU)       (None, 4, 4, 256)         0         \n",
      "                                                                 \n",
      " conv_pw_6 (Conv2D)          (None, 4, 4, 512)         131072    \n",
      "                                                                 \n",
      " conv_pw_6_bn (BatchNormaliz  (None, 4, 4, 512)        2048      \n",
      " ation)                                                          \n",
      "                                                                 \n",
      " conv_pw_6_relu (ReLU)       (None, 4, 4, 512)         0         \n",
      "                                                                 \n",
      " conv_dw_7 (DepthwiseConv2D)  (None, 4, 4, 512)        4608      \n",
      "                                                                 \n",
      " conv_dw_7_bn (BatchNormaliz  (None, 4, 4, 512)        2048      \n",
      " ation)                                                          \n",
      "                                                                 \n",
      " conv_dw_7_relu (ReLU)       (None, 4, 4, 512)         0         \n",
      "                                                                 \n",
      " conv_pw_7 (Conv2D)          (None, 4, 4, 512)         262144    \n",
      "                                                                 \n",
      " conv_pw_7_bn (BatchNormaliz  (None, 4, 4, 512)        2048      \n",
      " ation)                                                          \n",
      "                                                                 \n",
      " conv_pw_7_relu (ReLU)       (None, 4, 4, 512)         0         \n",
      "                                                                 \n",
      " conv_dw_8 (DepthwiseConv2D)  (None, 4, 4, 512)        4608      \n",
      "                                                                 \n",
      " conv_dw_8_bn (BatchNormaliz  (None, 4, 4, 512)        2048      \n",
      " ation)                                                          \n",
      "                                                                 \n",
      " conv_dw_8_relu (ReLU)       (None, 4, 4, 512)         0         \n",
      "                                                                 \n",
      " conv_pw_8 (Conv2D)          (None, 4, 4, 512)         262144    \n"
     ]
    },
    {
     "name": "stdout",
     "output_type": "stream",
     "text": [
      "                                                                 \n",
      " conv_pw_8_bn (BatchNormaliz  (None, 4, 4, 512)        2048      \n",
      " ation)                                                          \n",
      "                                                                 \n",
      " conv_pw_8_relu (ReLU)       (None, 4, 4, 512)         0         \n",
      "                                                                 \n",
      " conv_dw_9 (DepthwiseConv2D)  (None, 4, 4, 512)        4608      \n",
      "                                                                 \n",
      " conv_dw_9_bn (BatchNormaliz  (None, 4, 4, 512)        2048      \n",
      " ation)                                                          \n",
      "                                                                 \n",
      " conv_dw_9_relu (ReLU)       (None, 4, 4, 512)         0         \n",
      "                                                                 \n",
      " conv_pw_9 (Conv2D)          (None, 4, 4, 512)         262144    \n",
      "                                                                 \n",
      " conv_pw_9_bn (BatchNormaliz  (None, 4, 4, 512)        2048      \n",
      " ation)                                                          \n",
      "                                                                 \n",
      " conv_pw_9_relu (ReLU)       (None, 4, 4, 512)         0         \n",
      "                                                                 \n",
      " conv_dw_10 (DepthwiseConv2D  (None, 4, 4, 512)        4608      \n",
      " )                                                               \n",
      "                                                                 \n",
      " conv_dw_10_bn (BatchNormali  (None, 4, 4, 512)        2048      \n",
      " zation)                                                         \n",
      "                                                                 \n",
      " conv_dw_10_relu (ReLU)      (None, 4, 4, 512)         0         \n",
      "                                                                 \n",
      " conv_pw_10 (Conv2D)         (None, 4, 4, 512)         262144    \n",
      "                                                                 \n",
      " conv_pw_10_bn (BatchNormali  (None, 4, 4, 512)        2048      \n",
      " zation)                                                         \n",
      "                                                                 \n",
      " conv_pw_10_relu (ReLU)      (None, 4, 4, 512)         0         \n",
      "                                                                 \n",
      " conv_dw_11 (DepthwiseConv2D  (None, 4, 4, 512)        4608      \n",
      " )                                                               \n",
      "                                                                 \n",
      " conv_dw_11_bn (BatchNormali  (None, 4, 4, 512)        2048      \n",
      " zation)                                                         \n",
      "                                                                 \n",
      " conv_dw_11_relu (ReLU)      (None, 4, 4, 512)         0         \n",
      "                                                                 \n",
      " conv_pw_11 (Conv2D)         (None, 4, 4, 512)         262144    \n",
      "                                                                 \n",
      " conv_pw_11_bn (BatchNormali  (None, 4, 4, 512)        2048      \n",
      " zation)                                                         \n",
      "                                                                 \n",
      " conv_pw_11_relu (ReLU)      (None, 4, 4, 512)         0         \n",
      "                                                                 \n",
      " conv_pad_12 (ZeroPadding2D)  (None, 5, 5, 512)        0         \n",
      "                                                                 \n",
      " conv_dw_12 (DepthwiseConv2D  (None, 2, 2, 512)        4608      \n",
      " )                                                               \n",
      "                                                                 \n",
      " conv_dw_12_bn (BatchNormali  (None, 2, 2, 512)        2048      \n",
      " zation)                                                         \n",
      "                                                                 \n",
      " conv_dw_12_relu (ReLU)      (None, 2, 2, 512)         0         \n",
      "                                                                 \n",
      " conv_pw_12 (Conv2D)         (None, 2, 2, 1024)        524288    \n",
      "                                                                 \n",
      " conv_pw_12_bn (BatchNormali  (None, 2, 2, 1024)       4096      \n",
      " zation)                                                         \n",
      "                                                                 \n",
      " conv_pw_12_relu (ReLU)      (None, 2, 2, 1024)        0         \n",
      "                                                                 \n",
      " conv_dw_13 (DepthwiseConv2D  (None, 2, 2, 1024)       9216      \n",
      " )                                                               \n",
      "                                                                 \n",
      " conv_dw_13_bn (BatchNormali  (None, 2, 2, 1024)       4096      \n",
      " zation)                                                         \n",
      "                                                                 \n",
      " conv_dw_13_relu (ReLU)      (None, 2, 2, 1024)        0         \n",
      "                                                                 \n",
      " conv_pw_13 (Conv2D)         (None, 2, 2, 1024)        1048576   \n",
      "                                                                 \n",
      " conv_pw_13_bn (BatchNormali  (None, 2, 2, 1024)       4096      \n",
      " zation)                                                         \n",
      "                                                                 \n",
      " conv_pw_13_relu (ReLU)      (None, 2, 2, 1024)        0         \n",
      "                                                                 \n",
      " dropout (Dropout)           (None, 2, 2, 1024)        0         \n",
      "                                                                 \n",
      " global_average_pooling2d (G  (None, 1024)             0         \n",
      " lobalAveragePooling2D)                                          \n",
      "                                                                 \n",
      " dense (Dense)               (None, 128)               131200    \n",
      "                                                                 \n",
      " batch_normalization (BatchN  (None, 128)              512       \n",
      " ormalization)                                                   \n",
      "                                                                 \n",
      " dense_1 (Dense)             (None, 7)                 903       \n",
      "                                                                 \n",
      "=================================================================\n",
      "Total params: 3,361,479\n",
      "Trainable params: 3,339,335\n",
      "Non-trainable params: 22,144\n",
      "_________________________________________________________________\n"
     ]
    }
   ],
   "source": [
    "model.summary()"
   ]
  },
  {
   "cell_type": "code",
   "execution_count": 16,
   "id": "37278acd",
   "metadata": {},
   "outputs": [],
   "source": [
    "model.compile(loss='categorical_crossentropy', optimizer='adam', metrics=['accuracy'])"
   ]
  },
  {
   "cell_type": "code",
   "execution_count": 17,
   "id": "27a1e43c",
   "metadata": {},
   "outputs": [],
   "source": [
    "from tensorflow.keras.callbacks import EarlyStopping\n",
    "\n",
    "es = EarlyStopping(monitor='val_accuracy',patience=5,mode='max',restore_best_weights=True)"
   ]
  },
  {
   "cell_type": "code",
   "execution_count": 18,
   "id": "5c32e980",
   "metadata": {},
   "outputs": [
    {
     "name": "stdout",
     "output_type": "stream",
     "text": [
      "Epoch 1/5\n",
      "201/201 [==============================] - 114s 554ms/step - loss: 1.1627 - accuracy: 0.6477 - val_loss: 1.3204 - val_accuracy: 0.7118\n",
      "Epoch 2/5\n",
      "201/201 [==============================] - 113s 561ms/step - loss: 0.8123 - accuracy: 0.7323 - val_loss: 0.7414 - val_accuracy: 0.7542\n",
      "Epoch 3/5\n",
      "201/201 [==============================] - 123s 610ms/step - loss: 0.6362 - accuracy: 0.7747 - val_loss: 0.8563 - val_accuracy: 0.7442\n",
      "Epoch 4/5\n",
      "201/201 [==============================] - 112s 556ms/step - loss: 0.5774 - accuracy: 0.7950 - val_loss: 0.7076 - val_accuracy: 0.7598\n",
      "Epoch 5/5\n",
      "201/201 [==============================] - 112s 556ms/step - loss: 0.5083 - accuracy: 0.8248 - val_loss: 0.9149 - val_accuracy: 0.7367\n"
     ]
    }
   ],
   "source": [
    "hist = model.fit(x_train,y_train,epochs=5,batch_size=32,verbose=1,validation_split=0.2,callbacks=es)"
   ]
  },
  {
   "cell_type": "code",
   "execution_count": 19,
   "id": "2ff5cf4a",
   "metadata": {},
   "outputs": [
    {
     "name": "stdout",
     "output_type": "stream",
     "text": [
      "63/63 [==============================] - 5s 79ms/step - loss: 0.9060 - accuracy: 0.7389\n",
      "loss:  0.905958354473114\n",
      "Accuracy:  0.7388916611671448\n"
     ]
    }
   ],
   "source": [
    "import numpy as np\n",
    "\n",
    "x_test=np.array(x_test).reshape(-1,64,64,3)\n",
    "score=model.evaluate(x_test,y_test)\n",
    "print(\"loss: \",score[0])\n",
    "print(\"Accuracy: \",score[1])"
   ]
  },
  {
   "cell_type": "code",
   "execution_count": 20,
   "id": "e1009511",
   "metadata": {},
   "outputs": [],
   "source": [
    "classes={0:('akiec', 'actinic keratoses and intraepithelial carcinomae'),\n",
    "         1:('bcc' , 'basal cell carcinoma'),\n",
    "         2:('bkl', 'benign keratosis-like lesions'),\n",
    "         3:('df', 'dermatofibroma'),\n",
    "         4:('nv', ' melanocytic nevi'),\n",
    "         5:('vasc', ' pyogenic granulomas and hemorrhage'),\n",
    "         6:('mel', 'melanoma'),}"
   ]
  },
  {
   "cell_type": "code",
   "execution_count": 24,
   "id": "d0fff69a",
   "metadata": {},
   "outputs": [
    {
     "name": "stdout",
     "output_type": "stream",
     "text": [
      "1/1 [==============================] - 0s 18ms/step\n",
      "[9.5990252e-01 9.3629408e-01 8.4781194e-01 9.3172342e-01 1.2490047e-08\n",
      " 4.2006694e-02 4.4887567e-01]\n",
      "('akiec', 'actinic keratoses and intraepithelial carcinomae')\n"
     ]
    }
   ],
   "source": [
    "import PIL\n",
    "image=PIL.Image.open('test/aki1.jpg')\n",
    "image=image.resize((64,64))\n",
    "img=x_test[1]\n",
    "img=np.array(image).reshape(-1,64,64,3)\n",
    "result=model.predict(img)\n",
    "print(result[0])\n",
    "result=result.tolist()\n",
    "max_prob=max(result[0])\n",
    "class_ind=result[0].index(max_prob)\n",
    "print(classes[class_ind])"
   ]
  },
  {
   "cell_type": "code",
   "execution_count": 26,
   "id": "47d202f1",
   "metadata": {},
   "outputs": [],
   "source": [
    "model.save(\"MobileNet.h5\")"
   ]
  },
  {
   "cell_type": "code",
   "execution_count": 29,
   "id": "fe02ae34",
   "metadata": {},
   "outputs": [
    {
     "name": "stdout",
     "output_type": "stream",
     "text": [
      "INFO:tensorflow:Assets written to: C:\\Users\\DEEPKH~1\\AppData\\Local\\Temp\\tmpw792f8rg\\assets\n"
     ]
    },
    {
     "name": "stderr",
     "output_type": "stream",
     "text": [
      "INFO:tensorflow:Assets written to: C:\\Users\\DEEPKH~1\\AppData\\Local\\Temp\\tmpw792f8rg\\assets\n"
     ]
    }
   ],
   "source": [
    "from keras.models import load_model\n",
    "import tensorflow as tf\n",
    "\n",
    "new_cnn = load_model(\"MobileNet.h5\")\n",
    "\n",
    "converter = tf.lite.TFLiteConverter.from_keras_model(new_cnn)\n",
    "tflite_model = converter.convert()\n",
    "\n",
    "with open(\"mobilenet.tflite\",'wb') as f:\n",
    "    f.write(tflite_model)"
   ]
  },
  {
   "cell_type": "code",
   "execution_count": 28,
   "id": "620b9691",
   "metadata": {},
   "outputs": [],
   "source": [
    "import absl.logging\n",
    "absl.logging.set_verbosity(absl.logging.ERROR)"
   ]
  },
  {
   "cell_type": "code",
   "execution_count": null,
   "id": "a08fcff1",
   "metadata": {},
   "outputs": [],
   "source": []
  }
 ],
 "metadata": {
  "kernelspec": {
   "display_name": "Python 3 (ipykernel)",
   "language": "python",
   "name": "python3"
  },
  "language_info": {
   "codemirror_mode": {
    "name": "ipython",
    "version": 3
   },
   "file_extension": ".py",
   "mimetype": "text/x-python",
   "name": "python",
   "nbconvert_exporter": "python",
   "pygments_lexer": "ipython3",
   "version": "3.9.5"
  }
 },
 "nbformat": 4,
 "nbformat_minor": 5
}
