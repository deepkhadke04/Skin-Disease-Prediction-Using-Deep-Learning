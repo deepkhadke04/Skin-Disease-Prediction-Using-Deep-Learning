{
 "cells": [
  {
   "cell_type": "code",
   "execution_count": 17,
   "id": "cb90a849",
   "metadata": {},
   "outputs": [],
   "source": [
    "import pandas as pd\n",
    "df = pd.read_csv('hmnist_64_64_RGB.csv')"
   ]
  },
  {
   "cell_type": "code",
   "execution_count": 18,
   "id": "dff053f7",
   "metadata": {},
   "outputs": [
    {
     "data": {
      "text/html": [
       "<div>\n",
       "<style scoped>\n",
       "    .dataframe tbody tr th:only-of-type {\n",
       "        vertical-align: middle;\n",
       "    }\n",
       "\n",
       "    .dataframe tbody tr th {\n",
       "        vertical-align: top;\n",
       "    }\n",
       "\n",
       "    .dataframe thead th {\n",
       "        text-align: right;\n",
       "    }\n",
       "</style>\n",
       "<table border=\"1\" class=\"dataframe\">\n",
       "  <thead>\n",
       "    <tr style=\"text-align: right;\">\n",
       "      <th></th>\n",
       "      <th>pixel0000</th>\n",
       "      <th>pixel0001</th>\n",
       "      <th>pixel0002</th>\n",
       "      <th>pixel0003</th>\n",
       "      <th>pixel0004</th>\n",
       "      <th>pixel0005</th>\n",
       "      <th>pixel0006</th>\n",
       "      <th>pixel0007</th>\n",
       "      <th>pixel0008</th>\n",
       "      <th>pixel0009</th>\n",
       "      <th>...</th>\n",
       "      <th>pixel12279</th>\n",
       "      <th>pixel12280</th>\n",
       "      <th>pixel12281</th>\n",
       "      <th>pixel12282</th>\n",
       "      <th>pixel12283</th>\n",
       "      <th>pixel12284</th>\n",
       "      <th>pixel12285</th>\n",
       "      <th>pixel12286</th>\n",
       "      <th>pixel12287</th>\n",
       "      <th>label</th>\n",
       "    </tr>\n",
       "  </thead>\n",
       "  <tbody>\n",
       "    <tr>\n",
       "      <th>0</th>\n",
       "      <td>191</td>\n",
       "      <td>152</td>\n",
       "      <td>194</td>\n",
       "      <td>191</td>\n",
       "      <td>153</td>\n",
       "      <td>195</td>\n",
       "      <td>192</td>\n",
       "      <td>149</td>\n",
       "      <td>192</td>\n",
       "      <td>194</td>\n",
       "      <td>...</td>\n",
       "      <td>185</td>\n",
       "      <td>154</td>\n",
       "      <td>180</td>\n",
       "      <td>186</td>\n",
       "      <td>156</td>\n",
       "      <td>184</td>\n",
       "      <td>182</td>\n",
       "      <td>152</td>\n",
       "      <td>173</td>\n",
       "      <td>2</td>\n",
       "    </tr>\n",
       "    <tr>\n",
       "      <th>1</th>\n",
       "      <td>24</td>\n",
       "      <td>13</td>\n",
       "      <td>23</td>\n",
       "      <td>24</td>\n",
       "      <td>14</td>\n",
       "      <td>28</td>\n",
       "      <td>37</td>\n",
       "      <td>24</td>\n",
       "      <td>46</td>\n",
       "      <td>61</td>\n",
       "      <td>...</td>\n",
       "      <td>26</td>\n",
       "      <td>15</td>\n",
       "      <td>29</td>\n",
       "      <td>27</td>\n",
       "      <td>15</td>\n",
       "      <td>28</td>\n",
       "      <td>24</td>\n",
       "      <td>13</td>\n",
       "      <td>25</td>\n",
       "      <td>2</td>\n",
       "    </tr>\n",
       "    <tr>\n",
       "      <th>2</th>\n",
       "      <td>185</td>\n",
       "      <td>129</td>\n",
       "      <td>140</td>\n",
       "      <td>192</td>\n",
       "      <td>136</td>\n",
       "      <td>151</td>\n",
       "      <td>198</td>\n",
       "      <td>142</td>\n",
       "      <td>156</td>\n",
       "      <td>198</td>\n",
       "      <td>...</td>\n",
       "      <td>152</td>\n",
       "      <td>120</td>\n",
       "      <td>138</td>\n",
       "      <td>144</td>\n",
       "      <td>113</td>\n",
       "      <td>123</td>\n",
       "      <td>115</td>\n",
       "      <td>81</td>\n",
       "      <td>84</td>\n",
       "      <td>2</td>\n",
       "    </tr>\n",
       "    <tr>\n",
       "      <th>3</th>\n",
       "      <td>24</td>\n",
       "      <td>11</td>\n",
       "      <td>19</td>\n",
       "      <td>36</td>\n",
       "      <td>19</td>\n",
       "      <td>30</td>\n",
       "      <td>64</td>\n",
       "      <td>38</td>\n",
       "      <td>50</td>\n",
       "      <td>91</td>\n",
       "      <td>...</td>\n",
       "      <td>27</td>\n",
       "      <td>13</td>\n",
       "      <td>16</td>\n",
       "      <td>25</td>\n",
       "      <td>12</td>\n",
       "      <td>16</td>\n",
       "      <td>24</td>\n",
       "      <td>9</td>\n",
       "      <td>14</td>\n",
       "      <td>2</td>\n",
       "    </tr>\n",
       "    <tr>\n",
       "      <th>4</th>\n",
       "      <td>138</td>\n",
       "      <td>94</td>\n",
       "      <td>117</td>\n",
       "      <td>158</td>\n",
       "      <td>113</td>\n",
       "      <td>138</td>\n",
       "      <td>178</td>\n",
       "      <td>133</td>\n",
       "      <td>161</td>\n",
       "      <td>191</td>\n",
       "      <td>...</td>\n",
       "      <td>140</td>\n",
       "      <td>106</td>\n",
       "      <td>118</td>\n",
       "      <td>108</td>\n",
       "      <td>77</td>\n",
       "      <td>92</td>\n",
       "      <td>67</td>\n",
       "      <td>40</td>\n",
       "      <td>55</td>\n",
       "      <td>2</td>\n",
       "    </tr>\n",
       "  </tbody>\n",
       "</table>\n",
       "<p>5 rows × 12289 columns</p>\n",
       "</div>"
      ],
      "text/plain": [
       "   pixel0000  pixel0001  pixel0002  pixel0003  pixel0004  pixel0005  \\\n",
       "0        191        152        194        191        153        195   \n",
       "1         24         13         23         24         14         28   \n",
       "2        185        129        140        192        136        151   \n",
       "3         24         11         19         36         19         30   \n",
       "4        138         94        117        158        113        138   \n",
       "\n",
       "   pixel0006  pixel0007  pixel0008  pixel0009  ...  pixel12279  pixel12280  \\\n",
       "0        192        149        192        194  ...         185         154   \n",
       "1         37         24         46         61  ...          26          15   \n",
       "2        198        142        156        198  ...         152         120   \n",
       "3         64         38         50         91  ...          27          13   \n",
       "4        178        133        161        191  ...         140         106   \n",
       "\n",
       "   pixel12281  pixel12282  pixel12283  pixel12284  pixel12285  pixel12286  \\\n",
       "0         180         186         156         184         182         152   \n",
       "1          29          27          15          28          24          13   \n",
       "2         138         144         113         123         115          81   \n",
       "3          16          25          12          16          24           9   \n",
       "4         118         108          77          92          67          40   \n",
       "\n",
       "   pixel12287  label  \n",
       "0         173      2  \n",
       "1          25      2  \n",
       "2          84      2  \n",
       "3          14      2  \n",
       "4          55      2  \n",
       "\n",
       "[5 rows x 12289 columns]"
      ]
     },
     "execution_count": 18,
     "metadata": {},
     "output_type": "execute_result"
    }
   ],
   "source": [
    "df.head()"
   ]
  },
  {
   "cell_type": "code",
   "execution_count": 19,
   "id": "47f86c33",
   "metadata": {},
   "outputs": [
    {
     "data": {
      "text/plain": [
       "(10015, 12289)"
      ]
     },
     "execution_count": 19,
     "metadata": {},
     "output_type": "execute_result"
    }
   ],
   "source": [
    "df.shape"
   ]
  },
  {
   "cell_type": "code",
   "execution_count": 20,
   "id": "f555a96e",
   "metadata": {},
   "outputs": [],
   "source": [
    "x = df.drop(\"label\", axis=1).values\n",
    "y = df[\"label\"].values"
   ]
  },
  {
   "cell_type": "code",
   "execution_count": 21,
   "id": "bdc5300c",
   "metadata": {},
   "outputs": [
    {
     "data": {
      "text/plain": [
       "((10015, 12288), (10015,))"
      ]
     },
     "execution_count": 21,
     "metadata": {},
     "output_type": "execute_result"
    }
   ],
   "source": [
    "x.shape, y.shape"
   ]
  },
  {
   "cell_type": "code",
   "execution_count": 22,
   "id": "0a1b102e",
   "metadata": {},
   "outputs": [],
   "source": [
    "from sklearn.model_selection import train_test_split\n",
    "x_train,x_test,y_train,y_test=train_test_split(x,y,test_size=0.20,random_state=0)"
   ]
  },
  {
   "cell_type": "code",
   "execution_count": 23,
   "id": "e1649a56",
   "metadata": {},
   "outputs": [
    {
     "data": {
      "text/plain": [
       "((8012, 12288), (2003, 12288), (8012,), (2003,))"
      ]
     },
     "execution_count": 23,
     "metadata": {},
     "output_type": "execute_result"
    }
   ],
   "source": [
    "x_train.shape, x_test.shape, y_train.shape, y_test.shape"
   ]
  },
  {
   "cell_type": "code",
   "execution_count": 24,
   "id": "28fe398e",
   "metadata": {},
   "outputs": [],
   "source": [
    "x_train = x_train.reshape(x_train.shape[0], *(64, 64, 3))\n",
    "x_test = x_test.reshape(x_test.shape[0], *(64, 64, 3))"
   ]
  },
  {
   "cell_type": "code",
   "execution_count": 25,
   "id": "22286541",
   "metadata": {},
   "outputs": [
    {
     "data": {
      "text/plain": [
       "((8012, 64, 64, 3), (2003, 64, 64, 3))"
      ]
     },
     "execution_count": 25,
     "metadata": {},
     "output_type": "execute_result"
    }
   ],
   "source": [
    "x_train.shape, x_test.shape"
   ]
  },
  {
   "cell_type": "code",
   "execution_count": 26,
   "id": "2376f27a",
   "metadata": {},
   "outputs": [],
   "source": [
    "from keras.utils import to_categorical\n",
    "\n",
    "y_train = to_categorical(y_train)\n",
    "y_test = to_categorical(y_test)"
   ]
  },
  {
   "cell_type": "code",
   "execution_count": 27,
   "id": "0ac02d8b",
   "metadata": {},
   "outputs": [
    {
     "data": {
      "text/plain": [
       "((8012, 7), (2003, 7))"
      ]
     },
     "execution_count": 27,
     "metadata": {},
     "output_type": "execute_result"
    }
   ],
   "source": [
    "y_train.shape, y_test.shape"
   ]
  },
  {
   "cell_type": "code",
   "execution_count": 28,
   "id": "668ddc3d",
   "metadata": {},
   "outputs": [
    {
     "name": "stdout",
     "output_type": "stream",
     "text": [
      "Model: \"sequential_3\"\n",
      "_________________________________________________________________\n",
      " Layer (type)                Output Shape              Param #   \n",
      "=================================================================\n",
      " resnet50 (Functional)       (None, 2048)              23587712  \n",
      "                                                                 \n",
      " dropout_2 (Dropout)         (None, 2048)              0         \n",
      "                                                                 \n",
      " dense_2 (Dense)             (None, 128)               262272    \n",
      "                                                                 \n",
      " dropout_3 (Dropout)         (None, 128)               0         \n",
      "                                                                 \n",
      " dense_3 (Dense)             (None, 7)                 903       \n",
      "                                                                 \n",
      "=================================================================\n",
      "Total params: 23,850,887\n",
      "Trainable params: 9,194,503\n",
      "Non-trainable params: 14,656,384\n",
      "_________________________________________________________________\n"
     ]
    }
   ],
   "source": [
    "from keras.models import Sequential\n",
    "from keras import optimizers\n",
    "from keras.layers import Dense, Conv2D, Dropout, Flatten, MaxPooling2D\n",
    "from keras.applications import ResNet50\n",
    "from keras import regularizers\n",
    "import numpy as np\n",
    "\n",
    "model = Sequential()\n",
    "num_labels = 7\n",
    "\n",
    "base_model = ResNet50(include_top=False,input_shape=(64,64,3),pooling = 'avg', weights=\"imagenet\")\n",
    "model = Sequential()\n",
    "model.add(base_model)\n",
    "model.add(Dropout(0.5))\n",
    "model.add(Dense(128, activation=\"relu\",kernel_regularizer=regularizers.l2(0.02)))\n",
    "model.add(Dropout(0.5))\n",
    "model.add(Dense(num_labels, activation = 'softmax',kernel_regularizer=regularizers.l2(0.02)))\n",
    "\n",
    "for layer in base_model.layers:\n",
    "    layer.trainable = False\n",
    "for layer in base_model.layers[-22:]:\n",
    "    layer.trainable = True\n",
    "\n",
    "model.summary()"
   ]
  },
  {
   "cell_type": "code",
   "execution_count": 29,
   "id": "49ab6a37",
   "metadata": {},
   "outputs": [],
   "source": [
    "model.compile(loss='categorical_crossentropy', optimizer='adam', metrics=['accuracy'])"
   ]
  },
  {
   "cell_type": "code",
   "execution_count": 30,
   "id": "8ba61405",
   "metadata": {},
   "outputs": [],
   "source": [
    "from tensorflow.keras.callbacks import EarlyStopping\n",
    "\n",
    "es = EarlyStopping(monitor='val_accuracy',patience=5,mode='max',restore_best_weights=True)"
   ]
  },
  {
   "cell_type": "code",
   "execution_count": 31,
   "id": "ad0bcd26",
   "metadata": {},
   "outputs": [
    {
     "name": "stdout",
     "output_type": "stream",
     "text": [
      "Epoch 1/5\n",
      "201/201 [==============================] - 269s 1s/step - loss: 3.2002 - accuracy: 0.6767 - val_loss: 1.8418 - val_accuracy: 0.7293\n",
      "Epoch 2/5\n",
      "201/201 [==============================] - 263s 1s/step - loss: 1.4201 - accuracy: 0.7284 - val_loss: 1.1383 - val_accuracy: 0.7642\n",
      "Epoch 3/5\n",
      "201/201 [==============================] - 291s 1s/step - loss: 1.0188 - accuracy: 0.7535 - val_loss: 0.9837 - val_accuracy: 0.7517\n",
      "Epoch 4/5\n",
      "201/201 [==============================] - 307s 2s/step - loss: 0.8407 - accuracy: 0.7786 - val_loss: 0.9300 - val_accuracy: 0.7330\n",
      "Epoch 5/5\n",
      "201/201 [==============================] - 311s 2s/step - loss: 0.7322 - accuracy: 0.8028 - val_loss: 0.8999 - val_accuracy: 0.7629\n"
     ]
    }
   ],
   "source": [
    "hist = model.fit(x_train,y_train,epochs=5,batch_size=32,verbose=1,validation_split=0.2,callbacks=es)"
   ]
  },
  {
   "cell_type": "code",
   "execution_count": 32,
   "id": "8512a029",
   "metadata": {},
   "outputs": [
    {
     "name": "stdout",
     "output_type": "stream",
     "text": [
      "63/63 [==============================] - 18s 292ms/step - loss: 0.9450 - accuracy: 0.7294\n",
      "loss:  0.9449655413627625\n",
      "Accuracy:  0.7294058799743652\n"
     ]
    }
   ],
   "source": [
    "import numpy as np\n",
    "x_test=np.array(x_test).reshape(-1,64,64,3)\n",
    "score=model.evaluate(x_test,y_test)\n",
    "print(\"loss: \",score[0])\n",
    "print(\"Accuracy: \",score[1])"
   ]
  },
  {
   "cell_type": "code",
   "execution_count": 33,
   "id": "e31b7a23",
   "metadata": {},
   "outputs": [],
   "source": [
    "classes={0:('akiec', 'actinic keratoses and intraepithelial carcinomae'),\n",
    "         1:('bcc' , 'basal cell carcinoma'),\n",
    "         2:('bkl', 'benign keratosis-like lesions'),\n",
    "         3:('df', 'dermatofibroma'),\n",
    "         4:('nv', ' melanocytic nevi'),\n",
    "         5:('vasc', ' pyogenic granulomas and hemorrhage'),\n",
    "         6:('mel', 'melanoma'),}"
   ]
  },
  {
   "cell_type": "code",
   "execution_count": 34,
   "id": "45f06c5d",
   "metadata": {},
   "outputs": [
    {
     "name": "stdout",
     "output_type": "stream",
     "text": [
      "1/1 [==============================] - 1s 1s/step\n",
      "[0.01441294 0.01367702 0.72692245 0.0043053  0.07769188 0.00176272\n",
      " 0.16122766]\n",
      "('bkl', 'benign keratosis-like lesions')\n"
     ]
    }
   ],
   "source": [
    "import PIL\n",
    "image=PIL.Image.open('test/ISIC_0010512.jpg')\n",
    "image=image.resize((64,64))\n",
    "img=x_test[1]\n",
    "img=np.array(image).reshape(-1,64,64,3)\n",
    "result=model.predict(img)\n",
    "print(result[0])\n",
    "result=result.tolist()\n",
    "max_prob=max(result[0])\n",
    "class_ind=result[0].index(max_prob)\n",
    "print(classes[class_ind])"
   ]
  },
  {
   "cell_type": "code",
   "execution_count": 35,
   "id": "008458fc",
   "metadata": {},
   "outputs": [],
   "source": [
    "model.save(\"ResNet.h5\")"
   ]
  },
  {
   "cell_type": "code",
   "execution_count": 36,
   "id": "90173259",
   "metadata": {},
   "outputs": [
    {
     "name": "stderr",
     "output_type": "stream",
     "text": [
      "WARNING:absl:Found untraced functions such as _jit_compiled_convolution_op, _jit_compiled_convolution_op, _jit_compiled_convolution_op, _jit_compiled_convolution_op, _jit_compiled_convolution_op while saving (showing 5 of 53). These functions will not be directly callable after loading.\n"
     ]
    },
    {
     "name": "stdout",
     "output_type": "stream",
     "text": [
      "INFO:tensorflow:Assets written to: C:\\Users\\DEEPKH~1\\AppData\\Local\\Temp\\tmp5uu494ko\\assets\n"
     ]
    },
    {
     "name": "stderr",
     "output_type": "stream",
     "text": [
      "INFO:tensorflow:Assets written to: C:\\Users\\DEEPKH~1\\AppData\\Local\\Temp\\tmp5uu494ko\\assets\n"
     ]
    }
   ],
   "source": [
    "from keras.models import load_model\n",
    "import tensorflow as tf\n",
    "\n",
    "new_cnn = load_model(\"ResNet.h5\")\n",
    "\n",
    "converter = tf.lite.TFLiteConverter.from_keras_model(new_cnn)\n",
    "tflite_model = converter.convert()\n",
    "\n",
    "with open(\"resnet.tflite\",'wb') as f:\n",
    "    f.write(tflite_model)"
   ]
  },
  {
   "cell_type": "code",
   "execution_count": null,
   "id": "dde28a6a",
   "metadata": {},
   "outputs": [],
   "source": []
  }
 ],
 "metadata": {
  "kernelspec": {
   "display_name": "Python 3 (ipykernel)",
   "language": "python",
   "name": "python3"
  },
  "language_info": {
   "codemirror_mode": {
    "name": "ipython",
    "version": 3
   },
   "file_extension": ".py",
   "mimetype": "text/x-python",
   "name": "python",
   "nbconvert_exporter": "python",
   "pygments_lexer": "ipython3",
   "version": "3.9.5"
  }
 },
 "nbformat": 4,
 "nbformat_minor": 5
}
