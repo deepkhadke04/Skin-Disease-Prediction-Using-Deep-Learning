{
 "cells": [
  {
   "cell_type": "code",
   "execution_count": 1,
   "id": "70ef16d0",
   "metadata": {},
   "outputs": [],
   "source": [
    "import pandas as pd\n",
    "df = pd.read_csv('hmnist_64_64_RGB.csv')"
   ]
  },
  {
   "cell_type": "code",
   "execution_count": 2,
   "id": "37d1f5e1",
   "metadata": {},
   "outputs": [
    {
     "data": {
      "text/html": [
       "<div>\n",
       "<style scoped>\n",
       "    .dataframe tbody tr th:only-of-type {\n",
       "        vertical-align: middle;\n",
       "    }\n",
       "\n",
       "    .dataframe tbody tr th {\n",
       "        vertical-align: top;\n",
       "    }\n",
       "\n",
       "    .dataframe thead th {\n",
       "        text-align: right;\n",
       "    }\n",
       "</style>\n",
       "<table border=\"1\" class=\"dataframe\">\n",
       "  <thead>\n",
       "    <tr style=\"text-align: right;\">\n",
       "      <th></th>\n",
       "      <th>pixel0000</th>\n",
       "      <th>pixel0001</th>\n",
       "      <th>pixel0002</th>\n",
       "      <th>pixel0003</th>\n",
       "      <th>pixel0004</th>\n",
       "      <th>pixel0005</th>\n",
       "      <th>pixel0006</th>\n",
       "      <th>pixel0007</th>\n",
       "      <th>pixel0008</th>\n",
       "      <th>pixel0009</th>\n",
       "      <th>...</th>\n",
       "      <th>pixel12279</th>\n",
       "      <th>pixel12280</th>\n",
       "      <th>pixel12281</th>\n",
       "      <th>pixel12282</th>\n",
       "      <th>pixel12283</th>\n",
       "      <th>pixel12284</th>\n",
       "      <th>pixel12285</th>\n",
       "      <th>pixel12286</th>\n",
       "      <th>pixel12287</th>\n",
       "      <th>label</th>\n",
       "    </tr>\n",
       "  </thead>\n",
       "  <tbody>\n",
       "    <tr>\n",
       "      <th>0</th>\n",
       "      <td>191</td>\n",
       "      <td>152</td>\n",
       "      <td>194</td>\n",
       "      <td>191</td>\n",
       "      <td>153</td>\n",
       "      <td>195</td>\n",
       "      <td>192</td>\n",
       "      <td>149</td>\n",
       "      <td>192</td>\n",
       "      <td>194</td>\n",
       "      <td>...</td>\n",
       "      <td>185</td>\n",
       "      <td>154</td>\n",
       "      <td>180</td>\n",
       "      <td>186</td>\n",
       "      <td>156</td>\n",
       "      <td>184</td>\n",
       "      <td>182</td>\n",
       "      <td>152</td>\n",
       "      <td>173</td>\n",
       "      <td>2</td>\n",
       "    </tr>\n",
       "    <tr>\n",
       "      <th>1</th>\n",
       "      <td>24</td>\n",
       "      <td>13</td>\n",
       "      <td>23</td>\n",
       "      <td>24</td>\n",
       "      <td>14</td>\n",
       "      <td>28</td>\n",
       "      <td>37</td>\n",
       "      <td>24</td>\n",
       "      <td>46</td>\n",
       "      <td>61</td>\n",
       "      <td>...</td>\n",
       "      <td>26</td>\n",
       "      <td>15</td>\n",
       "      <td>29</td>\n",
       "      <td>27</td>\n",
       "      <td>15</td>\n",
       "      <td>28</td>\n",
       "      <td>24</td>\n",
       "      <td>13</td>\n",
       "      <td>25</td>\n",
       "      <td>2</td>\n",
       "    </tr>\n",
       "    <tr>\n",
       "      <th>2</th>\n",
       "      <td>185</td>\n",
       "      <td>129</td>\n",
       "      <td>140</td>\n",
       "      <td>192</td>\n",
       "      <td>136</td>\n",
       "      <td>151</td>\n",
       "      <td>198</td>\n",
       "      <td>142</td>\n",
       "      <td>156</td>\n",
       "      <td>198</td>\n",
       "      <td>...</td>\n",
       "      <td>152</td>\n",
       "      <td>120</td>\n",
       "      <td>138</td>\n",
       "      <td>144</td>\n",
       "      <td>113</td>\n",
       "      <td>123</td>\n",
       "      <td>115</td>\n",
       "      <td>81</td>\n",
       "      <td>84</td>\n",
       "      <td>2</td>\n",
       "    </tr>\n",
       "    <tr>\n",
       "      <th>3</th>\n",
       "      <td>24</td>\n",
       "      <td>11</td>\n",
       "      <td>19</td>\n",
       "      <td>36</td>\n",
       "      <td>19</td>\n",
       "      <td>30</td>\n",
       "      <td>64</td>\n",
       "      <td>38</td>\n",
       "      <td>50</td>\n",
       "      <td>91</td>\n",
       "      <td>...</td>\n",
       "      <td>27</td>\n",
       "      <td>13</td>\n",
       "      <td>16</td>\n",
       "      <td>25</td>\n",
       "      <td>12</td>\n",
       "      <td>16</td>\n",
       "      <td>24</td>\n",
       "      <td>9</td>\n",
       "      <td>14</td>\n",
       "      <td>2</td>\n",
       "    </tr>\n",
       "    <tr>\n",
       "      <th>4</th>\n",
       "      <td>138</td>\n",
       "      <td>94</td>\n",
       "      <td>117</td>\n",
       "      <td>158</td>\n",
       "      <td>113</td>\n",
       "      <td>138</td>\n",
       "      <td>178</td>\n",
       "      <td>133</td>\n",
       "      <td>161</td>\n",
       "      <td>191</td>\n",
       "      <td>...</td>\n",
       "      <td>140</td>\n",
       "      <td>106</td>\n",
       "      <td>118</td>\n",
       "      <td>108</td>\n",
       "      <td>77</td>\n",
       "      <td>92</td>\n",
       "      <td>67</td>\n",
       "      <td>40</td>\n",
       "      <td>55</td>\n",
       "      <td>2</td>\n",
       "    </tr>\n",
       "  </tbody>\n",
       "</table>\n",
       "<p>5 rows × 12289 columns</p>\n",
       "</div>"
      ],
      "text/plain": [
       "   pixel0000  pixel0001  pixel0002  pixel0003  pixel0004  pixel0005  \\\n",
       "0        191        152        194        191        153        195   \n",
       "1         24         13         23         24         14         28   \n",
       "2        185        129        140        192        136        151   \n",
       "3         24         11         19         36         19         30   \n",
       "4        138         94        117        158        113        138   \n",
       "\n",
       "   pixel0006  pixel0007  pixel0008  pixel0009  ...  pixel12279  pixel12280  \\\n",
       "0        192        149        192        194  ...         185         154   \n",
       "1         37         24         46         61  ...          26          15   \n",
       "2        198        142        156        198  ...         152         120   \n",
       "3         64         38         50         91  ...          27          13   \n",
       "4        178        133        161        191  ...         140         106   \n",
       "\n",
       "   pixel12281  pixel12282  pixel12283  pixel12284  pixel12285  pixel12286  \\\n",
       "0         180         186         156         184         182         152   \n",
       "1          29          27          15          28          24          13   \n",
       "2         138         144         113         123         115          81   \n",
       "3          16          25          12          16          24           9   \n",
       "4         118         108          77          92          67          40   \n",
       "\n",
       "   pixel12287  label  \n",
       "0         173      2  \n",
       "1          25      2  \n",
       "2          84      2  \n",
       "3          14      2  \n",
       "4          55      2  \n",
       "\n",
       "[5 rows x 12289 columns]"
      ]
     },
     "execution_count": 2,
     "metadata": {},
     "output_type": "execute_result"
    }
   ],
   "source": [
    "df.head()"
   ]
  },
  {
   "cell_type": "code",
   "execution_count": 3,
   "id": "ed4a073b",
   "metadata": {},
   "outputs": [
    {
     "data": {
      "text/plain": [
       "(10015, 12289)"
      ]
     },
     "execution_count": 3,
     "metadata": {},
     "output_type": "execute_result"
    }
   ],
   "source": [
    "df.shape"
   ]
  },
  {
   "cell_type": "code",
   "execution_count": 4,
   "id": "3079cd96",
   "metadata": {},
   "outputs": [],
   "source": [
    "x = df.drop(\"label\", axis=1).values\n",
    "y = df[\"label\"].values"
   ]
  },
  {
   "cell_type": "code",
   "execution_count": 5,
   "id": "131f3e8f",
   "metadata": {},
   "outputs": [
    {
     "data": {
      "text/plain": [
       "((10015, 12288), (10015,))"
      ]
     },
     "execution_count": 5,
     "metadata": {},
     "output_type": "execute_result"
    }
   ],
   "source": [
    "x.shape, y.shape"
   ]
  },
  {
   "cell_type": "code",
   "execution_count": 6,
   "id": "4793d726",
   "metadata": {},
   "outputs": [],
   "source": [
    "from sklearn.model_selection import train_test_split\n",
    "x_train,x_test,y_train,y_test=train_test_split(x,y,test_size=0.20,random_state=0)"
   ]
  },
  {
   "cell_type": "code",
   "execution_count": 7,
   "id": "7a45b2bf",
   "metadata": {},
   "outputs": [
    {
     "data": {
      "text/plain": [
       "((8012, 12288), (2003, 12288), (8012,), (2003,))"
      ]
     },
     "execution_count": 7,
     "metadata": {},
     "output_type": "execute_result"
    }
   ],
   "source": [
    "x_train.shape, x_test.shape, y_train.shape, y_test.shape"
   ]
  },
  {
   "cell_type": "code",
   "execution_count": 8,
   "id": "b9d3a4a0",
   "metadata": {},
   "outputs": [],
   "source": [
    "x_train = x_train.reshape(x_train.shape[0], *(64, 64, 3))\n",
    "x_test = x_test.reshape(x_test.shape[0], *(64, 64, 3))"
   ]
  },
  {
   "cell_type": "code",
   "execution_count": 9,
   "id": "aa8486ac",
   "metadata": {},
   "outputs": [
    {
     "data": {
      "text/plain": [
       "((8012, 64, 64, 3), (2003, 64, 64, 3))"
      ]
     },
     "execution_count": 9,
     "metadata": {},
     "output_type": "execute_result"
    }
   ],
   "source": [
    "x_train.shape, x_test.shape"
   ]
  },
  {
   "cell_type": "code",
   "execution_count": 10,
   "id": "7445c385",
   "metadata": {},
   "outputs": [],
   "source": [
    "from keras.utils import to_categorical\n",
    "\n",
    "y_train = to_categorical(y_train)\n",
    "y_test = to_categorical(y_test)"
   ]
  },
  {
   "cell_type": "code",
   "execution_count": 11,
   "id": "0a6e5adb",
   "metadata": {},
   "outputs": [
    {
     "data": {
      "text/plain": [
       "((8012, 7), (2003, 7))"
      ]
     },
     "execution_count": 11,
     "metadata": {},
     "output_type": "execute_result"
    }
   ],
   "source": [
    "y_train.shape, y_test.shape"
   ]
  },
  {
   "cell_type": "code",
   "execution_count": 12,
   "id": "92a73332",
   "metadata": {},
   "outputs": [
    {
     "name": "stdout",
     "output_type": "stream",
     "text": [
      "Model: \"sequential\"\n",
      "_________________________________________________________________\n",
      " Layer (type)                Output Shape              Param #   \n",
      "=================================================================\n",
      " conv2d (Conv2D)             (None, 62, 62, 32)        896       \n",
      "                                                                 \n",
      " max_pooling2d (MaxPooling2D  (None, 31, 31, 32)       0         \n",
      " )                                                               \n",
      "                                                                 \n",
      " conv2d_1 (Conv2D)           (None, 29, 29, 64)        18496     \n",
      "                                                                 \n",
      " max_pooling2d_1 (MaxPooling  (None, 14, 14, 64)       0         \n",
      " 2D)                                                             \n",
      "                                                                 \n",
      " conv2d_2 (Conv2D)           (None, 12, 12, 128)       73856     \n",
      "                                                                 \n",
      " max_pooling2d_2 (MaxPooling  (None, 6, 6, 128)        0         \n",
      " 2D)                                                             \n",
      "                                                                 \n",
      " conv2d_3 (Conv2D)           (None, 4, 4, 256)         295168    \n",
      "                                                                 \n",
      " max_pooling2d_3 (MaxPooling  (None, 2, 2, 256)        0         \n",
      " 2D)                                                             \n",
      "                                                                 \n",
      " flatten (Flatten)           (None, 1024)              0         \n",
      "                                                                 \n",
      " dense (Dense)               (None, 256)               262400    \n",
      "                                                                 \n",
      " dense_1 (Dense)             (None, 128)               32896     \n",
      "                                                                 \n",
      " dense_2 (Dense)             (None, 64)                8256      \n",
      "                                                                 \n",
      " dense_3 (Dense)             (None, 32)                2080      \n",
      "                                                                 \n",
      " dense_4 (Dense)             (None, 7)                 231       \n",
      "                                                                 \n",
      "=================================================================\n",
      "Total params: 694,279\n",
      "Trainable params: 694,279\n",
      "Non-trainable params: 0\n",
      "_________________________________________________________________\n"
     ]
    }
   ],
   "source": [
    "#Importing keras libraries\n",
    "from keras.models import Sequential\n",
    "from keras.layers import Conv2D, MaxPooling2D, Flatten, Dense, Dropout\n",
    "\n",
    "#initialising model\n",
    "cnn = Sequential()\n",
    "\n",
    "#LAYER 1\n",
    "#Step 1 - Convolution\n",
    "cnn.add(Conv2D(filters=32, kernel_size=(3,3), activation='relu', input_shape=(64,64,3)))\n",
    "#step 2 - Pooling\n",
    "cnn.add(MaxPooling2D(pool_size=(2,2)))\n",
    "\n",
    "#LAYER 2\n",
    "#Step 1 - Convolution\n",
    "cnn.add(Conv2D(filters=64, kernel_size=(3,3), activation='relu'))\n",
    "#step 2 - Pooling\n",
    "cnn.add(MaxPooling2D(pool_size=(2,2)))\n",
    "\n",
    "#LAYER 3\n",
    "#Step 1 - Convolution\n",
    "cnn.add(Conv2D(filters=128, kernel_size=(3,3), activation='relu'))\n",
    "#step 2 - Pooling\n",
    "cnn.add(MaxPooling2D(pool_size=(2,2)))\n",
    "\n",
    "#LAYER 4\n",
    "#Step 1 - Convolution\n",
    "cnn.add(Conv2D(filters=256, kernel_size=(3,3), activation='relu'))\n",
    "#step 2 - Pooling\n",
    "cnn.add(MaxPooling2D(pool_size=(2,2)))\n",
    "\n",
    "\n",
    "#Flattening Layer\n",
    "cnn.add(Flatten())\n",
    "\n",
    "#Fully Connected Layer\n",
    "cnn.add(Dense(units=256,activation='relu'))\n",
    "cnn.add(Dense(units=128,activation='relu'))\n",
    "cnn.add(Dense(units=64,activation='relu'))\n",
    "cnn.add(Dense(units=32,activation='relu'))\n",
    "cnn.add(Dense(units=7,activation='softmax'))\n",
    "\n",
    "#\n",
    "cnn.summary()"
   ]
  },
  {
   "cell_type": "code",
   "execution_count": null,
   "id": "6e8976fe",
   "metadata": {},
   "outputs": [],
   "source": []
  },
  {
   "cell_type": "code",
   "execution_count": null,
   "id": "0c12ffa2",
   "metadata": {},
   "outputs": [],
   "source": []
  },
  {
   "cell_type": "code",
   "execution_count": null,
   "id": "295105cf",
   "metadata": {},
   "outputs": [],
   "source": []
  },
  {
   "cell_type": "code",
   "execution_count": null,
   "id": "00bf3ed4",
   "metadata": {},
   "outputs": [],
   "source": []
  },
  {
   "cell_type": "code",
   "execution_count": null,
   "id": "15c6247c",
   "metadata": {},
   "outputs": [],
   "source": []
  },
  {
   "cell_type": "code",
   "execution_count": 13,
   "id": "7ed68f5f",
   "metadata": {},
   "outputs": [],
   "source": [
    "cnn.compile(optimizer = 'adam', loss = 'categorical_crossentropy', metrics = ['accuracy'])"
   ]
  },
  {
   "cell_type": "code",
   "execution_count": 16,
   "id": "121d00df",
   "metadata": {},
   "outputs": [
    {
     "name": "stdout",
     "output_type": "stream",
     "text": [
      "Epoch 1/15\n",
      "201/201 [==============================] - 54s 268ms/step - loss: 0.6849 - accuracy: 0.7460 - val_loss: 0.7634 - val_accuracy: 0.7293\n",
      "Epoch 2/15\n",
      "201/201 [==============================] - 54s 270ms/step - loss: 0.6847 - accuracy: 0.7530 - val_loss: 0.7684 - val_accuracy: 0.7224\n",
      "Epoch 3/15\n",
      "201/201 [==============================] - 55s 276ms/step - loss: 0.6682 - accuracy: 0.7502 - val_loss: 0.7582 - val_accuracy: 0.7205\n",
      "Epoch 4/15\n",
      "201/201 [==============================] - 55s 276ms/step - loss: 0.6462 - accuracy: 0.7591 - val_loss: 0.7782 - val_accuracy: 0.7230\n",
      "Epoch 5/15\n",
      "201/201 [==============================] - 55s 275ms/step - loss: 0.6220 - accuracy: 0.7703 - val_loss: 0.7736 - val_accuracy: 0.7149\n",
      "Epoch 6/15\n",
      "201/201 [==============================] - 54s 271ms/step - loss: 0.5907 - accuracy: 0.7862 - val_loss: 0.7471 - val_accuracy: 0.7367\n",
      "Epoch 7/15\n",
      "201/201 [==============================] - 54s 267ms/step - loss: 0.5837 - accuracy: 0.7887 - val_loss: 0.7428 - val_accuracy: 0.7386\n",
      "Epoch 8/15\n",
      "201/201 [==============================] - 56s 278ms/step - loss: 0.5434 - accuracy: 0.8086 - val_loss: 0.7877 - val_accuracy: 0.7280\n",
      "Epoch 9/15\n",
      "201/201 [==============================] - 53s 263ms/step - loss: 0.5084 - accuracy: 0.8182 - val_loss: 0.7758 - val_accuracy: 0.7367\n",
      "Epoch 10/15\n",
      "201/201 [==============================] - 53s 263ms/step - loss: 0.4841 - accuracy: 0.8262 - val_loss: 0.8373 - val_accuracy: 0.7336\n",
      "Epoch 11/15\n",
      "201/201 [==============================] - 54s 269ms/step - loss: 0.4569 - accuracy: 0.8332 - val_loss: 0.8889 - val_accuracy: 0.7299\n",
      "Epoch 12/15\n",
      "201/201 [==============================] - 55s 275ms/step - loss: 0.4616 - accuracy: 0.8413 - val_loss: 0.8950 - val_accuracy: 0.7342\n",
      "Epoch 13/15\n",
      "201/201 [==============================] - 56s 276ms/step - loss: 0.3833 - accuracy: 0.8628 - val_loss: 0.9030 - val_accuracy: 0.7305\n",
      "Epoch 14/15\n",
      "201/201 [==============================] - 55s 275ms/step - loss: 0.3381 - accuracy: 0.8786 - val_loss: 1.0821 - val_accuracy: 0.7274\n",
      "Epoch 15/15\n",
      "201/201 [==============================] - 55s 274ms/step - loss: 0.2984 - accuracy: 0.8961 - val_loss: 0.9926 - val_accuracy: 0.7349\n"
     ]
    }
   ],
   "source": [
    "history = cnn.fit(x_train,y_train,epochs=15,verbose=1, validation_split=0.2, batch_size=32)"
   ]
  },
  {
   "cell_type": "code",
   "execution_count": 17,
   "id": "6488ea32",
   "metadata": {},
   "outputs": [
    {
     "name": "stdout",
     "output_type": "stream",
     "text": [
      "63/63 [==============================] - 5s 71ms/step - loss: 1.1150 - accuracy: 0.7234\n",
      "loss:  1.114950180053711\n",
      "Accuracy:  0.7234148979187012\n"
     ]
    }
   ],
   "source": [
    "import numpy as np\n",
    "\n",
    "x_test=np.array(x_test).reshape(-1,64,64,3)\n",
    "score=cnn.evaluate(x_test,y_test)\n",
    "print(\"loss: \",score[0])\n",
    "print(\"Accuracy: \",score[1])"
   ]
  },
  {
   "cell_type": "code",
   "execution_count": 18,
   "id": "4a074c4e",
   "metadata": {},
   "outputs": [],
   "source": [
    "classes={0:('akiec', 'actinic keratoses and intraepithelial carcinomae'),\n",
    "         1:('bcc' , 'basal cell carcinoma'),\n",
    "         2:('bkl', 'benign keratosis-like lesions'),\n",
    "         3:('df', 'dermatofibroma'),\n",
    "         4:('nv', ' melanocytic nevi'),\n",
    "         5:('vasc', ' pyogenic granulomas and hemorrhage'),\n",
    "         6:('mel', 'melanoma'),}"
   ]
  },
  {
   "cell_type": "code",
   "execution_count": 31,
   "id": "f7232fd9",
   "metadata": {},
   "outputs": [
    {
     "name": "stdout",
     "output_type": "stream",
     "text": [
      "1/1 [==============================] - 0s 47ms/step\n",
      "[6.3921475e-06 4.5236540e-03 2.0451401e-03 2.2779345e-04 9.4202584e-01\n",
      " 2.0631733e-04 5.0964884e-02]\n",
      "('nv', ' melanocytic nevi')\n"
     ]
    }
   ],
   "source": [
    "import PIL\n",
    "image=PIL.Image.open('test/mel (3).jpg')\n",
    "image=image.resize((64,64))\n",
    "img=x_test[1]\n",
    "img=np.array(image).reshape(-1,64,64,3)\n",
    "result=cnn.predict(img)\n",
    "print(result[0])\n",
    "result=result.tolist()\n",
    "max_prob=max(result[0])\n",
    "class_ind=result[0].index(max_prob)\n",
    "print(classes[class_ind])"
   ]
  },
  {
   "cell_type": "code",
   "execution_count": 36,
   "id": "0e0c0f78",
   "metadata": {},
   "outputs": [
    {
     "name": "stderr",
     "output_type": "stream",
     "text": [
      "WARNING:absl:Found untraced functions such as _jit_compiled_convolution_op, _jit_compiled_convolution_op, _jit_compiled_convolution_op, _jit_compiled_convolution_op while saving (showing 4 of 4). These functions will not be directly callable after loading.\n"
     ]
    },
    {
     "name": "stdout",
     "output_type": "stream",
     "text": [
      "INFO:tensorflow:Assets written to: C:\\Users\\DEEPKH~1\\AppData\\Local\\Temp\\tmpa89vqa9l\\assets\n"
     ]
    },
    {
     "name": "stderr",
     "output_type": "stream",
     "text": [
      "INFO:tensorflow:Assets written to: C:\\Users\\DEEPKH~1\\AppData\\Local\\Temp\\tmpa89vqa9l\\assets\n"
     ]
    }
   ],
   "source": [
    "import tensorflow as tf\n",
    "\n",
    "converter = tf.lite.TFLiteConverter.from_keras_model(cnn)\n",
    "tflite_model = converter.convert()\n",
    "\n",
    "with open(\"cnn.tflite\",'wb') as f:\n",
    "    f.write(tflite_model)"
   ]
  },
  {
   "cell_type": "code",
   "execution_count": 34,
   "id": "487c2ea2",
   "metadata": {},
   "outputs": [],
   "source": [
    "cnn.save(\"cnn.h5\")"
   ]
  },
  {
   "cell_type": "code",
   "execution_count": 40,
   "id": "48cd0c07",
   "metadata": {},
   "outputs": [
    {
     "name": "stdout",
     "output_type": "stream",
     "text": [
      "INFO:tensorflow:Assets written to: C:\\Users\\DEEPKH~1\\AppData\\Local\\Temp\\tmpx40coy05\\assets\n"
     ]
    },
    {
     "name": "stderr",
     "output_type": "stream",
     "text": [
      "INFO:tensorflow:Assets written to: C:\\Users\\DEEPKH~1\\AppData\\Local\\Temp\\tmpx40coy05\\assets\n"
     ]
    }
   ],
   "source": [
    "from keras.models import load_model\n",
    "import tensorflow as tf\n",
    "\n",
    "new_cnn = load_model(\"cnn.h5\")\n",
    "\n",
    "converter = tf.lite.TFLiteConverter.from_keras_model(new_cnn)\n",
    "tflite_model = converter.convert()\n",
    "\n",
    "with open(\"cnn.tflite\",'wb') as f:\n",
    "    f.write(tflite_model)"
   ]
  },
  {
   "cell_type": "code",
   "execution_count": 38,
   "id": "240eb4a0",
   "metadata": {},
   "outputs": [],
   "source": [
    "import absl.logging\n",
    "absl.logging.set_verbosity(absl.logging.ERROR)"
   ]
  },
  {
   "cell_type": "code",
   "execution_count": null,
   "id": "bc52e2a7",
   "metadata": {},
   "outputs": [],
   "source": []
  }
 ],
 "metadata": {
  "kernelspec": {
   "display_name": "Python 3 (ipykernel)",
   "language": "python",
   "name": "python3"
  },
  "language_info": {
   "codemirror_mode": {
    "name": "ipython",
    "version": 3
   },
   "file_extension": ".py",
   "mimetype": "text/x-python",
   "name": "python",
   "nbconvert_exporter": "python",
   "pygments_lexer": "ipython3",
   "version": "3.9.5"
  }
 },
 "nbformat": 4,
 "nbformat_minor": 5
}
